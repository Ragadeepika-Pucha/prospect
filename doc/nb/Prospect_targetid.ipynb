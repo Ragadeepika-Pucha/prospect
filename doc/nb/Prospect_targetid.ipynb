{
 "cells": [
  {
   "cell_type": "markdown",
   "metadata": {},
   "source": [
    "### Example notebook to inspect a set of targetids with Prospect\n",
    "\n",
    "E. Armengaud - A. Raichoor\n",
    "\n",
    "In the context of minisv2, tile-based data with night-based coadds, March 2020\n"
   ]
  },
  {
   "cell_type": "code",
   "execution_count": 69,
   "metadata": {},
   "outputs": [],
   "source": [
    "# Load modules :\n",
    "# - use DESI master kernel\n",
    "# - get prospect from desihub : https://github.com/desihub/prospect/ (master branch)\n",
    "# - setup pythonpath, eg :\n",
    "import sys, os, glob\n",
    "sys.path.append(\"/global/homes/X/XXXX/prospect/py\") # EDIT THIS to your path \n",
    "from prospect import plotframes, utils_specviewer\n",
    "import desispec.io\n",
    "from astropy.table import Table, vstack\n",
    "import numpy as np\n",
    "from astropy.io import fits"
   ]
  },
  {
   "cell_type": "code",
   "execution_count": 71,
   "metadata": {},
   "outputs": [],
   "source": [
    "# Create \"homemade mini-db\"\n",
    "tiledir   = '/global/cfs/cdirs/desi/spectro/redux/daily/tiles/' # EDIT THIS\n",
    "tiles = ['70002', '70003', '70005'] # EDIT THIS\n",
    "petals = ['0','3','6','7','9'] # EDIT THIS\n",
    "obs_db = utils_specviewer.make_targetdict(tiledir, petals=petals, tiles=tiles) # petals, tiles = optional arguments\n",
    "\n",
    "## Enter list of targets here. Targetids must be int64.\n",
    "# In this example we select some random targets from the minidb\n",
    "targets = [ obs_db['70002-20200304']['targetid'][34], obs_db['70005-20200303']['targetid'][2] ]\n",
    "# Other example : list of SDSS stars classified as galaxies \n",
    "targets = [ 35191248222424683, 35191274004810087, 35191255705059574]\n",
    "\n",
    "## Make spectra+zcat\n",
    "# spectra and zcat are entry-matched\n",
    "# there are several entries per targetid if a given target is observed several nights\n",
    "spectra, zcat= utils_specviewer.load_spectra_zcat_from_targets(targets, tiledir, obs_db)\n",
    "\n",
    "# VI interface in notebook\n",
    "plotframes.plotspectra(spectra, zcatalog=zcat, title='Target_select', notebook=True, mask_type='CMX_TARGET')"
   ]
  }
 ],
 "metadata": {
  "kernelspec": {
   "display_name": "DESI master",
   "language": "python",
   "name": "desi-master"
  },
  "language_info": {
   "codemirror_mode": {
    "name": "ipython",
    "version": 3
   },
   "file_extension": ".py",
   "mimetype": "text/x-python",
   "name": "python",
   "nbconvert_exporter": "python",
   "pygments_lexer": "ipython3",
   "version": "3.6.6"
  }
 },
 "nbformat": 4,
 "nbformat_minor": 4
}
