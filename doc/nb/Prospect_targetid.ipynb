{
 "cells": [
  {
   "cell_type": "markdown",
   "metadata": {},
   "source": [
    "### Example notebook to inspect a set of targetids with Prospect\n",
    "\n",
    "E. Armengaud - A. Raichoor\n",
    "\n",
    "In the context of minisv2, tile-based data, March 2020\n",
    "\n",
    "The code to find spectra associated to a given targetid is \"homemade\"... (and will change for sure)\n",
    " .. But it's ok to use it to inspect specific targets in minisv2 !"
   ]
  },
  {
   "cell_type": "code",
   "execution_count": 69,
   "metadata": {},
   "outputs": [],
   "source": [
    "# Load modules :\n",
    "# - use DESI master kernel\n",
    "# - get prospect from desihub : https://github.com/desihub/prospect/tree/minisv\n",
    "#     use the minisv branch (as of early March)\n",
    "#     setup pythonpath, eg :\n",
    "import sys, os, glob\n",
    "sys.path.append(\"/global/homes/a/armengau/prospect/py\")\n",
    "from prospect import plotframes,utils_specviewer,myspecselect\n",
    "import desispec.io\n",
    "from astropy.table import Table, vstack\n",
    "import numpy as np\n",
    "from astropy.io import fits"
   ]
  },
  {
   "cell_type": "code",
   "execution_count": 70,
   "metadata": {},
   "outputs": [],
   "source": [
    "# Two homemade functions, defined within the notebook at this stage.\n",
    "\n",
    "# 1) Make \"mini-db\" of targetids. It basically reads zbest, so decently it's fast.\n",
    "def make_targetdict(tiledir, petals=[str(i) for i in range(10)], tiles_in_seven=True) :\n",
    "    mydict = {}\n",
    "    tiles = os.listdir(tiledir)\n",
    "    if tiles_in_seven : tiles = [x for x in tiles if x[0]=='7']\n",
    "    for tile in tiles:\n",
    "        nights = os.listdir(os.path.join(tiledir,tile))\n",
    "        for night in nights :\n",
    "            mydict[tile+\"-\"+night] = {}\n",
    "            # exposures\n",
    "            fns = np.sort(glob.glob(os.path.join(tiledir,tile,night,'cframe-b'+petals[0]+'-????????.fits')))\n",
    "            mydict[tile+\"-\"+night]['exps'] = np.array([fn.replace('.','-').split('-')[-2] for fn in fns])\n",
    "            # targetid, fibres\n",
    "            targetid,fiber,petal_list = [],[],[]\n",
    "            for petal in petals:\n",
    "                pp = glob.glob(os.path.join(tiledir,tile,night,'zbest-'+petal+'-'+tile+'-????????.fits'))\n",
    "                if len(pp)>0 :\n",
    "                    fn        = pp[0]\n",
    "                    data      = fits.open(fn)['fibermap'].data\n",
    "                    targetid += data['targetid'].tolist()\n",
    "                    fiber    += data['fiber'].tolist()\n",
    "                    petal_list    += [petal for i in range(len(data['targetid']))]\n",
    "            mydict[tile+\"-\"+night]['targetid'] = np.array(targetid)\n",
    "            mydict[tile+\"-\"+night]['fiber']    = np.array(fiber)\n",
    "            mydict[tile+\"-\"+night]['petal']    = np.array(petal_list)            \n",
    "    return mydict\n",
    "\n",
    "# 2) Make spectra/zcat from a targetlist.\n",
    "def make_spectra_zcat_from_targets(targets, tiledir, obs_db) :\n",
    "    spectra = None\n",
    "    ztables = []\n",
    "    for target in targets :\n",
    "        for tile_night in obs_db.keys() :\n",
    "            w, = np.where( obs_db[tile_night]['targetid'] == target )\n",
    "            if len(w) > 1 : print(\"?? Pbl ??\")\n",
    "            if len(w) == 0 : continue\n",
    "            the_path = tile_night.replace(\"-\",\"/\")\n",
    "            the_petal = obs_db[tile_night]['petal'][w[0]]\n",
    "            the_spec = desispec.io.read_spectra(os.path.join(tiledir,the_path,\"coadd-\"+the_petal+\"-\"+tile_night+\".fits\"))\n",
    "            the_spec = myspecselect.myspecselect(the_spec, targets=[target], remove_scores=True)\n",
    "            the_spec.fibermap['EXPID'] = the_spec.fibermap['FIBER']*0 # trick for Spectra.update()\n",
    "            if the_spec.num_spectra()!=1 : print(\"!! Pbl .. ??\")\n",
    "            ztables.append(Table.read(os.path.join(tiledir,the_path,\"zbest-\"+the_petal+\"-\"+tile_night+\".fits\"),'ZBEST'))\n",
    "        if spectra is None : spectra = the_spec\n",
    "        else : spectra.update(the_spec)\n",
    "    zcat = vstack(ztables)\n",
    "    return (spectra,zcat)"
   ]
  },
  {
   "cell_type": "code",
   "execution_count": 71,
   "metadata": {},
   "outputs": [],
   "source": [
    "# Make \"mini-db\" \n",
    "tiledir   = '/global/cfs/cdirs/desi/spectro/redux/daily/tiles/'\n",
    "petals = ['0','3','6','7','9']\n",
    "obs_db = make_targetdict(tiledir, petals=petals)"
   ]
  },
  {
   "cell_type": "code",
   "execution_count": 72,
   "metadata": {},
   "outputs": [],
   "source": [
    "## Enter list of targets HERE. \n",
    "# In this example we select some random targets from the minidb\n",
    "targets = [ obs_db['70002-20200304']['targetid'][34], obs_db['70005-20200303']['targetid'][2] ]\n",
    "\n",
    "# Make spectra+zcat\n",
    "spectra, zcat= make_spectra_zcat_from_targets(targets, tiledir, obs_db)"
   ]
  },
  {
   "cell_type": "code",
   "execution_count": null,
   "metadata": {},
   "outputs": [],
   "source": [
    "# VI command in notebook\n",
    "plotframes.plotspectra(spectra, zcatalog=zcat, title='Targetid selection', notebook=True, mask_type='CMX_TARGET')"
   ]
  }
 ],
 "metadata": {
  "kernelspec": {
   "display_name": "DESI master",
   "language": "python",
   "name": "desi-master"
  },
  "language_info": {
   "codemirror_mode": {
    "name": "ipython",
    "version": 3
   },
   "file_extension": ".py",
   "mimetype": "text/x-python",
   "name": "python",
   "nbconvert_exporter": "python",
   "pygments_lexer": "ipython3",
   "version": "3.6.6"
  }
 },
 "nbformat": 4,
 "nbformat_minor": 4
}
