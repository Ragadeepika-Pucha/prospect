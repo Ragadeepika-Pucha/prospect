{
 "cells": [
  {
   "cell_type": "markdown",
   "metadata": {},
   "source": [
    "# Prospect VI tool demo with a notebook  \n",
    "\n",
    "Works at nersc, with master desi environment, which includes prospect (and bokeh 2.1.1)\n",
    "\n",
    "Simple prospect demo, based on a nightly coadd file from MiniSV2 (andes release)"
   ]
  },
  {
   "cell_type": "code",
   "execution_count": 1,
   "metadata": {},
   "outputs": [],
   "source": [
    "import os, sys\n",
    "import numpy as np\n",
    "from astropy.table import Table\n",
    "from pathlib import Path\n",
    "import desispec\n",
    "\n",
    "# Uncomment this line to use a specific version of prospect\n",
    "sys.path.insert(0,\"/global/homes/a/armengau/prospect/py\")\n",
    "from prospect import utilities,plotframes"
   ]
  },
  {
   "cell_type": "code",
   "execution_count": 2,
   "metadata": {},
   "outputs": [],
   "source": [
    "# Path to the directory where files are saved\n",
    "data_path = Path(os.environ['DESI_SPECTRO_REDUX']+\"/andes/tiles/70003/20200228\")"
   ]
  },
  {
   "cell_type": "code",
   "execution_count": 3,
   "metadata": {},
   "outputs": [
    {
     "name": "stdout",
     "output_type": "stream",
     "text": [
      "500 spectra in file\n"
     ]
    }
   ],
   "source": [
    "# Read a coadd file + associated summary of redrock outputs\n",
    "allcoadds = desispec.io.read_spectra(data_path/\"coadd-3-70003-20200228.fits\")\n",
    "allzbest = Table.read(data_path/\"zbest-3-70003-20200228.fits\",'ZBEST')\n",
    "print(allcoadds.num_spectra(),\"spectra in file\")"
   ]
  },
  {
   "cell_type": "code",
   "execution_count": 4,
   "metadata": {},
   "outputs": [
    {
     "name": "stdout",
     "output_type": "stream",
     "text": [
      "31 spectra selected\n"
     ]
    }
   ],
   "source": [
    "# Select a subsample of spectra to be visually inspected:\n",
    "zbest_select = allzbest[(allzbest[\"Z\"]>0.6)&(allzbest[\"Z\"]<1)&(allzbest[\"DELTACHI2\"]<50)]\n",
    "targets = zbest_select[\"TARGETID\"]\n",
    "coadds_select = allcoadds.select(targets=targets)\n",
    "print(coadds_select.num_spectra(),\"spectra selected\")"
   ]
  },
  {
   "cell_type": "markdown",
   "metadata": {},
   "source": [
    "#### Spectral viewer\n",
    "DO NOT load too many spectra into the viewer as it might overload your web browser (VI sets are currently made of 50 spectra)."
   ]
  },
  {
   "cell_type": "code",
   "execution_count": 5,
   "metadata": {},
   "outputs": [
    {
     "name": "stdout",
     "output_type": "stream",
     "text": [
      "Help on function plotspectra in module prospect.plotframes:\n",
      "\n",
      "plotspectra(spectra, nspec=None, startspec=None, zcatalog=None, redrock_cat=None, num_approx_fits=None, with_full_2ndfit=True, model_from_zcat=True, model=None, notebook=False, is_coadded=True, title=None, html_dir=None, with_imaging=True, with_noise=True, with_coaddcam=True, mask_type='DESI_TARGET', with_thumb_tab=True, with_vi_widgets=True, with_thumb_only_page=False, template_dir=None, archetype_fit=False, archetypes_dir=None)\n",
      "    Main prospect routine. From a set of spectra, creates a bokeh document\n",
      "    used for VI, to be displayed as an HTML page or within a Jupyter notebook.\n",
      "    \n",
      "    Parameters\n",
      "    ----------\n",
      "    spectra: input spectra. Supported formats: 1) a 3-band DESI spectra object, with bands 'b', 'r', 'z'. 2) a single-band\n",
      "        DESI spectra object, bandname 'brz'. 2) a list of 3 frames, associated to the b, r and z bands.\n",
      "    zcatalog (default None): astropy Table, containing the 'ZBEST' output redrock. Currently supports redrock-PCA or archetype files. The entries in zcatalog must be matched one-by-one (in order) to spectra.\n",
      "    redrock_cat (default None): astropy Table, containing Redrock output (as defined in utilities.match_redrock_zfit_to_spectra). Entries must be matched one-by-one (in order) to spectra.\n",
      "    notebook (bool): if True, bokeh outputs the viewer to a notebook, else to a (static) HTML page\n",
      "    html_dir (string): directory to store the HTML page if notebook is False\n",
      "    title (string): title used to name the HTML page / the bokeh figure / the VI file\n",
      "    mask_type : mask type to identify target categories from the fibermap. Available : DESI_TARGET,\n",
      "        SV1_DESI_TARGET, CMX_TARGET. Default : DESI_TARGET.\n",
      "    with_vi_widgets (bool): include widgets used to enter VI informations. Set it to False if you do not intend to\n",
      "        record VI files.\n",
      "    with_thumb_tab (bool): include a tab with thumbnails of spectra in bokeh viewer\n",
      "    with_thumb_only_page (bool): when creating a static HTML (notebook==False), a light HTML page including only the thumb\n",
      "        gallery will also be produced.\n",
      "    nspec: select subsample of spectra, only for frame input\n",
      "    startspec: if nspec is set, subsample selection will be [startspec:startspec+nspec]\n",
      "    model_from_zcat: if True, model spectra will be computed from the input zcatalog\n",
      "    model: if set, use this input set of model spectra (instead of computing it from zcat)\n",
      "        model format (mwave, mflux); model must be entry-matched to zcatalog.\n",
      "    is_coadded : set to True if spectra are coadds\n",
      "    with_imaging : include thumb image from legacysurvey.org\n",
      "    with_noise : include noise for each spectrum\n",
      "    with_coaddcam : include camera-coaddition\n",
      "    template_dir: Redrock template directory\n",
      "    archetype_fit : if True, assume zbest derived from redrock --archetypes and plot model accordingly.\n",
      "    archetypes_dir : directory path for archetypes if not $RR__ARCHETYPE_DIR.\n",
      "    num_approx_fits (default None): nb of best fit models to display if redrock_cat is given. By default,\n",
      "        num_approx_fits=(nb of best fits available in redrock_cat)\n",
      "\n"
     ]
    }
   ],
   "source": [
    "help(plotframes.plotspectra)"
   ]
  },
  {
   "cell_type": "code",
   "execution_count": null,
   "metadata": {},
   "outputs": [],
   "source": [
    "plotframes.plotspectra(coadds_select, zcatalog=zbest_select, notebook=True, \n",
    "                       title='Prospect_demo', \n",
    "                       mask_type='CMX_TARGET')"
   ]
  }
 ],
 "metadata": {
  "kernelspec": {
   "display_name": "DESI master",
   "language": "python",
   "name": "desi-master"
  },
  "language_info": {
   "codemirror_mode": {
    "name": "ipython",
    "version": 3
   },
   "file_extension": ".py",
   "mimetype": "text/x-python",
   "name": "python",
   "nbconvert_exporter": "python",
   "pygments_lexer": "ipython3",
   "version": "3.8.3"
  },
  "widgets": {
   "application/vnd.jupyter.widget-state+json": {
    "state": {},
    "version_major": 2,
    "version_minor": 0
   }
  }
 },
 "nbformat": 4,
 "nbformat_minor": 4
}
