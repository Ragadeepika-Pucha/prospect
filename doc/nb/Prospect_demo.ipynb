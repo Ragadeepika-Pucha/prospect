{
 "cells": [
  {
   "cell_type": "markdown",
   "metadata": {},
   "source": [
    "# Spectral viewer demo with a notebook  \n",
    "(Modified version of the notebook available on github)   \n",
    "All the desi packages along with bokeh and numba should be installed"
   ]
  },
  {
   "cell_type": "code",
   "execution_count": null,
   "metadata": {},
   "outputs": [],
   "source": [
    "import os, sys\n",
    "import numpy as np\n",
    "from astropy.table import Table\n",
    "from pathlib import Path\n",
    "import desispec\n",
    "import importlib\n",
    "\n",
    "# uncomment this and replace with proper path if the redrock environment variable is not found\n",
    "# os.environ[\"RR_TEMPLATE_DIR\"] = \"/opt/astrosoft/redrock-templates\"\n",
    "\n",
    "# Change the path below based on where you have downloaded prospect\n",
    "sys.path.append(\"/home/bid13/astrosoft/prospect/py\")\n",
    "from prospect import utils_specviewer,plotframes\n",
    "\n",
    "# importlib.reload(utils_specviewer)\n",
    "# importlib.reload(plotframes)"
   ]
  },
  {
   "cell_type": "code",
   "execution_count": null,
   "metadata": {},
   "outputs": [],
   "source": [
    "# Path to the directory where files are saved\n",
    "data_path = Path(\"/data/bid13/desi/70003\")"
   ]
  },
  {
   "cell_type": "markdown",
   "metadata": {},
   "source": [
    "I had concatenated all the observed fits files to get a master file and used the table below to select appropriate target IDs. You can go ahead and load the zbest and coadd fits files obtained from the mini-sv."
   ]
  },
  {
   "cell_type": "code",
   "execution_count": null,
   "metadata": {},
   "outputs": [],
   "source": [
    "table = Table.read(data_path/\"zbest-70003-20200219-sv0_lrg_truth_added.fits\")\n",
    "print(len(table))\n",
    "targets = table[(table[\"Z\"]<1)&(table[\"DELTACHI2\"]<300)][\"TARGETID\"]"
   ]
  },
  {
   "cell_type": "code",
   "execution_count": null,
   "metadata": {},
   "outputs": [],
   "source": [
    "# Read the files from the mini-SV\n",
    "\n",
    "zbfile = data_path/\"selected_zbest.fits\"\n",
    "specfile = data_path/\"selected_coadd.fits\"\n",
    "\n",
    "\n",
    "spectra = desispec.io.read_spectra(specfile)\n",
    "\n",
    "zbest = Table.read(zbfile, 'ZBEST')"
   ]
  },
  {
   "cell_type": "code",
   "execution_count": null,
   "metadata": {},
   "outputs": [],
   "source": [
    "print(str(spectra.num_spectra())+\" spectra in total\")\n",
    "\n",
    "# Select a subset based on the target\n",
    "sp_single_exp = spectra.select(targets=targets)\n",
    "print(str(sp_single_exp.num_spectra())+\" spectra selected\")"
   ]
  },
  {
   "cell_type": "markdown",
   "metadata": {},
   "source": [
    "#### Spectral viewer  \n",
    "DO NOT load more than 100 spectra into the viewer as it might overload your web browser.\n"
   ]
  },
  {
   "cell_type": "code",
   "execution_count": null,
   "metadata": {},
   "outputs": [],
   "source": [
    "plotframes.plotspectra(sp_single_exp, zcatalog=zbest, notebook=True, with_coaddcam=False, with_thumb_tab=False)"
   ]
  }
 ],
 "metadata": {
  "kernelspec": {
   "display_name": "desi",
   "language": "python",
   "name": "desi"
  },
  "language_info": {
   "codemirror_mode": {
    "name": "ipython",
    "version": 3
   },
   "file_extension": ".py",
   "mimetype": "text/x-python",
   "name": "python",
   "nbconvert_exporter": "python",
   "pygments_lexer": "ipython3",
   "version": "3.8.1"
  },
  "widgets": {
   "application/vnd.jupyter.widget-state+json": {
    "state": {},
    "version_major": 2,
    "version_minor": 0
   }
  }
 },
 "nbformat": 4,
 "nbformat_minor": 4
}
