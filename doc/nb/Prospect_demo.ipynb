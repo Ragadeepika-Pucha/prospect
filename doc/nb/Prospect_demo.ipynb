{
 "cells": [
  {
   "cell_type": "markdown",
   "metadata": {},
   "source": [
    "# Spectral viewer demo with a notebook  \n",
    "(Modified version of the notebook available on prospect's github repo)   \n",
    "All the desi packages along with bokeh and numba should be installed"
   ]
  },
  {
   "cell_type": "code",
   "execution_count": null,
   "metadata": {},
   "outputs": [],
   "source": [
    "import os, sys\n",
    "import numpy as np\n",
    "from astropy.table import Table\n",
    "from pathlib import Path\n",
    "import desispec\n",
    "import importlib\n",
    "\n",
    "# uncomment this and replace with proper path if the redrock template environment variable is not found\n",
    "# os.environ[\"RR_TEMPLATE_DIR\"] = \"/opt/astrosoft/redrock-templates\"\n",
    "\n",
    "# Change the path below based on where you have downloaded prospect\n",
    "sys.path.append(\"/home/bid13/astrosoft/prospect/py\")\n",
    "from prospect import utilities,plotframes\n",
    "\n",
    "# importlib.reload(utilities)\n",
    "# importlib.reload(plotframes)"
   ]
  },
  {
   "cell_type": "code",
   "execution_count": null,
   "metadata": {},
   "outputs": [],
   "source": [
    "# Path to the directory where files are saved\n",
    "data_path = Path(\"/data/bid13/desi/70003\")"
   ]
  },
  {
   "cell_type": "markdown",
   "metadata": {},
   "source": [
    "I had concatenated all the observed fits files to get a master file and used the table below to select appropriate target IDs. But you can use any mini-SV zbest and co-add file you like and do your own selection of subsets."
   ]
  },
  {
   "cell_type": "code",
   "execution_count": null,
   "metadata": {},
   "outputs": [],
   "source": [
    "table = Table.read(data_path/\"zbest-70003-20200219-sv0_lrg_truth_added.fits\")\n",
    "print(len(table))\n",
    "targets = table[(table[\"Z\"]<1)&(table[\"DELTACHI2\"]<300)][\"TARGETID\"]"
   ]
  },
  {
   "cell_type": "code",
   "execution_count": null,
   "metadata": {},
   "outputs": [],
   "source": [
    "# Read the files from the mini-SV\n",
    "\n",
    "zbfile = data_path/\"zbest-0-70003-20200219.fits\" #\"selected_zbest.fits\"\n",
    "specfile = data_path/\"coadd-0-70003-20200219.fits\" #\"selected_coadd.fits\"\n",
    "\n",
    "spectra = desispec.io.read_spectra(specfile)\n",
    "\n",
    "zbest = Table.read(zbfile, 'ZBEST')\n"
   ]
  },
  {
   "cell_type": "code",
   "execution_count": null,
   "metadata": {},
   "outputs": [],
   "source": [
    "print(str(spectra.num_spectra())+\" spectra in total\")\n",
    "\n",
    "#If you want to do the step below i.e. select spectra based on targetIDs you should provide a fake column\n",
    "spectra.fibermap[\"NIGHT\"]=np.ones(len(spectra.fibermap))\n",
    "\n",
    "# Select a subset based on the target\n",
    "sp_single_exp = spectra.select(targets=targets)\n",
    "print(str(sp_single_exp.num_spectra())+\" spectra selected\")"
   ]
  },
  {
   "cell_type": "markdown",
   "metadata": {},
   "source": [
    "#### Spectral viewer  \n",
    "DO NOT load more than 100 spectra into the viewer as it might overload your web browser.\n"
   ]
  },
  {
   "cell_type": "code",
   "execution_count": null,
   "metadata": {},
   "outputs": [],
   "source": [
    "plotframes.plotspectra(sp_single_exp, zcatalog=zbest, notebook=True, with_coaddcam=False, with_thumb_tab=False)"
   ]
  }
 ],
 "metadata": {
  "kernelspec": {
   "display_name": "desi",
   "language": "python",
   "name": "desi"
  },
  "language_info": {
   "codemirror_mode": {
    "name": "ipython",
    "version": 3
   },
   "file_extension": ".py",
   "mimetype": "text/x-python",
   "name": "python",
   "nbconvert_exporter": "python",
   "pygments_lexer": "ipython3",
   "version": "3.8.1"
  },
  "widgets": {
   "application/vnd.jupyter.widget-state+json": {
    "state": {},
    "version_major": 2,
    "version_minor": 0
   }
  }
 },
 "nbformat": 4,
 "nbformat_minor": 4
}
